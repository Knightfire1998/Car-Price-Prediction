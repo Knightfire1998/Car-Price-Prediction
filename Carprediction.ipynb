{
 "cells": [
  {
   "cell_type": "code",
   "execution_count": 1,
   "metadata": {},
   "outputs": [],
   "source": [
    "import pandas as pd\n",
    "import matplotlib.pyplot as plt\n",
    "import seaborn as sns\n",
    "%matplotlib inline\n"
   ]
  },
  {
   "cell_type": "code",
   "execution_count": 2,
   "metadata": {},
   "outputs": [],
   "source": [
    "data = pd.read_csv(\"data/car data.csv\")"
   ]
  },
  {
   "cell_type": "code",
   "execution_count": 3,
   "metadata": {},
   "outputs": [
    {
     "data": {
      "text/html": [
       "<div>\n",
       "<style scoped>\n",
       "    .dataframe tbody tr th:only-of-type {\n",
       "        vertical-align: middle;\n",
       "    }\n",
       "\n",
       "    .dataframe tbody tr th {\n",
       "        vertical-align: top;\n",
       "    }\n",
       "\n",
       "    .dataframe thead th {\n",
       "        text-align: right;\n",
       "    }\n",
       "</style>\n",
       "<table border=\"1\" class=\"dataframe\">\n",
       "  <thead>\n",
       "    <tr style=\"text-align: right;\">\n",
       "      <th></th>\n",
       "      <th>Car_Name</th>\n",
       "      <th>Year</th>\n",
       "      <th>Selling_Price</th>\n",
       "      <th>Present_Price</th>\n",
       "      <th>Kms_Driven</th>\n",
       "      <th>Fuel_Type</th>\n",
       "      <th>Seller_Type</th>\n",
       "      <th>Transmission</th>\n",
       "      <th>Owner</th>\n",
       "    </tr>\n",
       "  </thead>\n",
       "  <tbody>\n",
       "    <tr>\n",
       "      <th>0</th>\n",
       "      <td>ritz</td>\n",
       "      <td>2014</td>\n",
       "      <td>3.35</td>\n",
       "      <td>5.59</td>\n",
       "      <td>27000</td>\n",
       "      <td>Petrol</td>\n",
       "      <td>Dealer</td>\n",
       "      <td>Manual</td>\n",
       "      <td>0</td>\n",
       "    </tr>\n",
       "    <tr>\n",
       "      <th>1</th>\n",
       "      <td>sx4</td>\n",
       "      <td>2013</td>\n",
       "      <td>4.75</td>\n",
       "      <td>9.54</td>\n",
       "      <td>43000</td>\n",
       "      <td>Diesel</td>\n",
       "      <td>Dealer</td>\n",
       "      <td>Manual</td>\n",
       "      <td>0</td>\n",
       "    </tr>\n",
       "    <tr>\n",
       "      <th>2</th>\n",
       "      <td>ciaz</td>\n",
       "      <td>2017</td>\n",
       "      <td>7.25</td>\n",
       "      <td>9.85</td>\n",
       "      <td>6900</td>\n",
       "      <td>Petrol</td>\n",
       "      <td>Dealer</td>\n",
       "      <td>Manual</td>\n",
       "      <td>0</td>\n",
       "    </tr>\n",
       "    <tr>\n",
       "      <th>3</th>\n",
       "      <td>wagon r</td>\n",
       "      <td>2011</td>\n",
       "      <td>2.85</td>\n",
       "      <td>4.15</td>\n",
       "      <td>5200</td>\n",
       "      <td>Petrol</td>\n",
       "      <td>Dealer</td>\n",
       "      <td>Manual</td>\n",
       "      <td>0</td>\n",
       "    </tr>\n",
       "    <tr>\n",
       "      <th>4</th>\n",
       "      <td>swift</td>\n",
       "      <td>2014</td>\n",
       "      <td>4.60</td>\n",
       "      <td>6.87</td>\n",
       "      <td>42450</td>\n",
       "      <td>Diesel</td>\n",
       "      <td>Dealer</td>\n",
       "      <td>Manual</td>\n",
       "      <td>0</td>\n",
       "    </tr>\n",
       "  </tbody>\n",
       "</table>\n",
       "</div>"
      ],
      "text/plain": [
       "  Car_Name  Year  Selling_Price  Present_Price  Kms_Driven Fuel_Type  \\\n",
       "0     ritz  2014           3.35           5.59       27000    Petrol   \n",
       "1      sx4  2013           4.75           9.54       43000    Diesel   \n",
       "2     ciaz  2017           7.25           9.85        6900    Petrol   \n",
       "3  wagon r  2011           2.85           4.15        5200    Petrol   \n",
       "4    swift  2014           4.60           6.87       42450    Diesel   \n",
       "\n",
       "  Seller_Type Transmission  Owner  \n",
       "0      Dealer       Manual      0  \n",
       "1      Dealer       Manual      0  \n",
       "2      Dealer       Manual      0  \n",
       "3      Dealer       Manual      0  \n",
       "4      Dealer       Manual      0  "
      ]
     },
     "execution_count": 3,
     "metadata": {},
     "output_type": "execute_result"
    }
   ],
   "source": [
    "data.head()"
   ]
  },
  {
   "cell_type": "code",
   "execution_count": 4,
   "metadata": {},
   "outputs": [
    {
     "data": {
      "text/plain": [
       "Car_Name         0\n",
       "Year             0\n",
       "Selling_Price    0\n",
       "Present_Price    0\n",
       "Kms_Driven       0\n",
       "Fuel_Type        0\n",
       "Seller_Type      0\n",
       "Transmission     0\n",
       "Owner            0\n",
       "dtype: int64"
      ]
     },
     "execution_count": 4,
     "metadata": {},
     "output_type": "execute_result"
    }
   ],
   "source": [
    "data.isnull().sum()"
   ]
  },
  {
   "cell_type": "code",
   "execution_count": 5,
   "metadata": {},
   "outputs": [],
   "source": [
    "data.drop(['Car_Name'], axis =1, inplace = True)\n"
   ]
  },
  {
   "cell_type": "code",
   "execution_count": 6,
   "metadata": {},
   "outputs": [],
   "source": [
    "data = pd.get_dummies(data, drop_first=True)"
   ]
  },
  {
   "cell_type": "code",
   "execution_count": 7,
   "metadata": {},
   "outputs": [],
   "source": [
    "data['current'] =2020"
   ]
  },
  {
   "cell_type": "code",
   "execution_count": 8,
   "metadata": {},
   "outputs": [],
   "source": [
    "data['No_of_Year'] = data['current'] - data['Year']"
   ]
  },
  {
   "cell_type": "code",
   "execution_count": 9,
   "metadata": {},
   "outputs": [],
   "source": [
    "\n",
    "data.drop(['current', 'Year'], axis =1, inplace = True)\n"
   ]
  },
  {
   "cell_type": "code",
   "execution_count": 10,
   "metadata": {},
   "outputs": [
    {
     "data": {
      "text/html": [
       "<div>\n",
       "<style scoped>\n",
       "    .dataframe tbody tr th:only-of-type {\n",
       "        vertical-align: middle;\n",
       "    }\n",
       "\n",
       "    .dataframe tbody tr th {\n",
       "        vertical-align: top;\n",
       "    }\n",
       "\n",
       "    .dataframe thead th {\n",
       "        text-align: right;\n",
       "    }\n",
       "</style>\n",
       "<table border=\"1\" class=\"dataframe\">\n",
       "  <thead>\n",
       "    <tr style=\"text-align: right;\">\n",
       "      <th></th>\n",
       "      <th>Selling_Price</th>\n",
       "      <th>Present_Price</th>\n",
       "      <th>Kms_Driven</th>\n",
       "      <th>Owner</th>\n",
       "      <th>Fuel_Type_Diesel</th>\n",
       "      <th>Fuel_Type_Petrol</th>\n",
       "      <th>Seller_Type_Individual</th>\n",
       "      <th>Transmission_Manual</th>\n",
       "      <th>No_of_Year</th>\n",
       "    </tr>\n",
       "  </thead>\n",
       "  <tbody>\n",
       "    <tr>\n",
       "      <th>0</th>\n",
       "      <td>3.35</td>\n",
       "      <td>5.59</td>\n",
       "      <td>27000</td>\n",
       "      <td>0</td>\n",
       "      <td>0</td>\n",
       "      <td>1</td>\n",
       "      <td>0</td>\n",
       "      <td>1</td>\n",
       "      <td>6</td>\n",
       "    </tr>\n",
       "    <tr>\n",
       "      <th>1</th>\n",
       "      <td>4.75</td>\n",
       "      <td>9.54</td>\n",
       "      <td>43000</td>\n",
       "      <td>0</td>\n",
       "      <td>1</td>\n",
       "      <td>0</td>\n",
       "      <td>0</td>\n",
       "      <td>1</td>\n",
       "      <td>7</td>\n",
       "    </tr>\n",
       "    <tr>\n",
       "      <th>2</th>\n",
       "      <td>7.25</td>\n",
       "      <td>9.85</td>\n",
       "      <td>6900</td>\n",
       "      <td>0</td>\n",
       "      <td>0</td>\n",
       "      <td>1</td>\n",
       "      <td>0</td>\n",
       "      <td>1</td>\n",
       "      <td>3</td>\n",
       "    </tr>\n",
       "    <tr>\n",
       "      <th>3</th>\n",
       "      <td>2.85</td>\n",
       "      <td>4.15</td>\n",
       "      <td>5200</td>\n",
       "      <td>0</td>\n",
       "      <td>0</td>\n",
       "      <td>1</td>\n",
       "      <td>0</td>\n",
       "      <td>1</td>\n",
       "      <td>9</td>\n",
       "    </tr>\n",
       "    <tr>\n",
       "      <th>4</th>\n",
       "      <td>4.60</td>\n",
       "      <td>6.87</td>\n",
       "      <td>42450</td>\n",
       "      <td>0</td>\n",
       "      <td>1</td>\n",
       "      <td>0</td>\n",
       "      <td>0</td>\n",
       "      <td>1</td>\n",
       "      <td>6</td>\n",
       "    </tr>\n",
       "  </tbody>\n",
       "</table>\n",
       "</div>"
      ],
      "text/plain": [
       "   Selling_Price  Present_Price  Kms_Driven  Owner  Fuel_Type_Diesel  \\\n",
       "0           3.35           5.59       27000      0                 0   \n",
       "1           4.75           9.54       43000      0                 1   \n",
       "2           7.25           9.85        6900      0                 0   \n",
       "3           2.85           4.15        5200      0                 0   \n",
       "4           4.60           6.87       42450      0                 1   \n",
       "\n",
       "   Fuel_Type_Petrol  Seller_Type_Individual  Transmission_Manual  No_of_Year  \n",
       "0                 1                       0                    1           6  \n",
       "1                 0                       0                    1           7  \n",
       "2                 1                       0                    1           3  \n",
       "3                 1                       0                    1           9  \n",
       "4                 0                       0                    1           6  "
      ]
     },
     "execution_count": 10,
     "metadata": {},
     "output_type": "execute_result"
    }
   ],
   "source": [
    "data.head()"
   ]
  },
  {
   "cell_type": "code",
   "execution_count": 11,
   "metadata": {},
   "outputs": [
    {
     "data": {
      "text/plain": [
       "<matplotlib.axes._subplots.AxesSubplot at 0x26f60efbe80>"
      ]
     },
     "execution_count": 11,
     "metadata": {},
     "output_type": "execute_result"
    },
    {
     "data": {
      "image/png": "[encoded data removed]",
      "text/plain": [
       "<Figure size 1440x1080 with 2 Axes>"
      ]
     },
     "metadata": {
      "needs_background": "light"
     },
     "output_type": "display_data"
    }
   ],
   "source": [
    "plt.figure(figsize=(20,15))\n",
    "sns.heatmap(data.corr(), annot =True)"
   ]
  },
  {
   "cell_type": "code",
   "execution_count": 12,
   "metadata": {},
   "outputs": [
    {
     "data": {
      "text/html": [
       "<div>\n",
       "<style scoped>\n",
       "    .dataframe tbody tr th:only-of-type {\n",
       "        vertical-align: middle;\n",
       "    }\n",
       "\n",
       "    .dataframe tbody tr th {\n",
       "        vertical-align: top;\n",
       "    }\n",
       "\n",
       "    .dataframe thead th {\n",
       "        text-align: right;\n",
       "    }\n",
       "</style>\n",
       "<table border=\"1\" class=\"dataframe\">\n",
       "  <thead>\n",
       "    <tr style=\"text-align: right;\">\n",
       "      <th></th>\n",
       "      <th>Present_Price</th>\n",
       "      <th>Kms_Driven</th>\n",
       "      <th>Owner</th>\n",
       "      <th>Fuel_Type_Diesel</th>\n",
       "      <th>Fuel_Type_Petrol</th>\n",
       "      <th>Seller_Type_Individual</th>\n",
       "      <th>Transmission_Manual</th>\n",
       "      <th>No_of_Year</th>\n",
       "    </tr>\n",
       "  </thead>\n",
       "  <tbody>\n",
       "    <tr>\n",
       "      <th>0</th>\n",
       "      <td>5.59</td>\n",
       "      <td>27000</td>\n",
       "      <td>0</td>\n",
       "      <td>0</td>\n",
       "      <td>1</td>\n",
       "      <td>0</td>\n",
       "      <td>1</td>\n",
       "      <td>6</td>\n",
       "    </tr>\n",
       "    <tr>\n",
       "      <th>1</th>\n",
       "      <td>9.54</td>\n",
       "      <td>43000</td>\n",
       "      <td>0</td>\n",
       "      <td>1</td>\n",
       "      <td>0</td>\n",
       "      <td>0</td>\n",
       "      <td>1</td>\n",
       "      <td>7</td>\n",
       "    </tr>\n",
       "    <tr>\n",
       "      <th>2</th>\n",
       "      <td>9.85</td>\n",
       "      <td>6900</td>\n",
       "      <td>0</td>\n",
       "      <td>0</td>\n",
       "      <td>1</td>\n",
       "      <td>0</td>\n",
       "      <td>1</td>\n",
       "      <td>3</td>\n",
       "    </tr>\n",
       "    <tr>\n",
       "      <th>3</th>\n",
       "      <td>4.15</td>\n",
       "      <td>5200</td>\n",
       "      <td>0</td>\n",
       "      <td>0</td>\n",
       "      <td>1</td>\n",
       "      <td>0</td>\n",
       "      <td>1</td>\n",
       "      <td>9</td>\n",
       "    </tr>\n",
       "    <tr>\n",
       "      <th>4</th>\n",
       "      <td>6.87</td>\n",
       "      <td>42450</td>\n",
       "      <td>0</td>\n",
       "      <td>1</td>\n",
       "      <td>0</td>\n",
       "      <td>0</td>\n",
       "      <td>1</td>\n",
       "      <td>6</td>\n",
       "    </tr>\n",
       "  </tbody>\n",
       "</table>\n",
       "</div>"
      ],
      "text/plain": [
       "   Present_Price  Kms_Driven  Owner  Fuel_Type_Diesel  Fuel_Type_Petrol  \\\n",
       "0           5.59       27000      0                 0                 1   \n",
       "1           9.54       43000      0                 1                 0   \n",
       "2           9.85        6900      0                 0                 1   \n",
       "3           4.15        5200      0                 0                 1   \n",
       "4           6.87       42450      0                 1                 0   \n",
       "\n",
       "   Seller_Type_Individual  Transmission_Manual  No_of_Year  \n",
       "0                       0                    1           6  \n",
       "1                       0                    1           7  \n",
       "2                       0                    1           3  \n",
       "3                       0                    1           9  \n",
       "4                       0                    1           6  "
      ]
     },
     "execution_count": 12,
     "metadata": {},
     "output_type": "execute_result"
    }
   ],
   "source": [
    "X= data.iloc[:, 1:]\n",
    "y = data.iloc[:, 0]\n",
    "X.head()"
   ]
  },
  {
   "cell_type": "code",
   "execution_count": 13,
   "metadata": {},
   "outputs": [],
   "source": [
    "from sklearn.ensemble import ExtraTreesRegressor\n",
    "model = ExtraTreesRegressor()"
   ]
  },
  {
   "cell_type": "code",
   "execution_count": 14,
   "metadata": {},
   "outputs": [
    {
     "name": "stdout",
     "output_type": "stream",
     "text": [
      "[3.11158538e-01 2.75584376e-02 1.77161611e-04 2.79191512e-01\n",
      " 9.81388783e-05 1.25807980e-01 1.75171321e-01 8.08369118e-02]\n"
     ]
    },
    {
     "name": "stderr",
     "output_type": "stream",
     "text": [
      "c:\\users\\reshikesh\\appdata\\local\\programs\\python\\python37\\lib\\site-packages\\sklearn\\ensemble\\forest.py:245: FutureWarning: The default value of n_estimators will change from 10 in version 0.20 to 100 in 0.22.\n",
      "  \"10 in version 0.20 to 100 in 0.22.\", FutureWarning)\n"
     ]
    }
   ],
   "source": [
    "#####Feature importance\n",
    "model.fit(X,y)\n",
    "print(model.feature_importances_)\n"
   ]
  },
  {
   "cell_type": "code",
   "execution_count": 15,
   "metadata": {},
   "outputs": [],
   "source": [
    "from sklearn.model_selection import train_test_split"
   ]
  },
  {
   "cell_type": "code",
   "execution_count": 16,
   "metadata": {},
   "outputs": [],
   "source": [
    "X_train,X_test, y_train,y_test = train_test_split(X,y, test_size = 0.2)"
   ]
  },
  {
   "cell_type": "code",
   "execution_count": 17,
   "metadata": {},
   "outputs": [],
   "source": [
    "from sklearn.ensemble import RandomForestRegressor"
   ]
  },
  {
   "cell_type": "code",
   "execution_count": 18,
   "metadata": {},
   "outputs": [],
   "source": [
    "regressor =  RandomForestRegressor()"
   ]
  },
  {
   "cell_type": "code",
   "execution_count": 19,
   "metadata": {},
   "outputs": [
    {
     "name": "stdout",
     "output_type": "stream",
     "text": [
      "[50, 100, 150, 200, 250, 300, 350, 400, 450, 500, 550, 600, 650, 700, 750, 800, 850, 900, 950, 1000, 1050, 1100, 1150, 1200, 1250, 1300, 1350, 1400, 1450, 1500]\n"
     ]
    }
   ],
   "source": [
    "n_estimators = [int(x) for x in np.linspace(start = 50, stop = 1500, num = 30)]\n",
    "print(n_estimators)"
   ]
  },
  {
   "cell_type": "code",
   "execution_count": 20,
   "metadata": {},
   "outputs": [],
   "source": [
    "from sklearn.model_selection import RandomizedSearchCV\n",
    "\n",
    "n_estimators = [int(x) for x in np.linspace(start = 50, stop = 1500, num = 30)]\n",
    "\n",
    "max_features = ['auto', 'sqrt']\n",
    "\n",
    "max_depth = [int(x) for x in np.linspace(5, 50, num = 6)]\n",
    "\n",
    "min_samples_split = [2, 4, 5, 8, 10, 12, 15, 40, 80, 100]\n",
    "\n",
    "min_samples_leaf = [1, 2, 5, 10]"
   ]
  },
  {
   "cell_type": "code",
   "execution_count": 21,
   "metadata": {},
   "outputs": [
    {
     "name": "stdout",
     "output_type": "stream",
     "text": [
      "{'n_estimators': [50, 100, 150, 200, 250, 300, 350, 400, 450, 500, 550, 600, 650, 700, 750, 800, 850, 900, 950, 1000, 1050, 1100, 1150, 1200, 1250, 1300, 1350, 1400, 1450, 1500], 'max_features': ['auto', 'sqrt'], 'max_depth': [5, 14, 23, 32, 41, 50], 'min_samples_split': [2, 4, 5, 8, 10, 12, 15, 40, 80, 100], 'min_samples_leaf': [1, 2, 5, 10]}\n"
     ]
    }
   ],
   "source": [
    "\n",
    "random_grid = {'n_estimators': n_estimators,\n",
    "               'max_features': max_features,\n",
    "               'max_depth': max_depth,\n",
    "               'min_samples_split': min_samples_split,\n",
    "               'min_samples_leaf': min_samples_leaf}\n",
    "\n",
    "print(random_grid)\n",
    "rf = RandomForestRegressor()"
   ]
  },
  {
   "cell_type": "code",
   "execution_count": 22,
   "metadata": {},
   "outputs": [],
   "source": [
    "rf_random = RandomizedSearchCV(estimator = rf, param_distributions = random_grid,scoring='neg_mean_squared_error', n_iter = 10, cv = 5, verbose=2, random_state=42, n_jobs = 1)"
   ]
  },
  {
   "cell_type": "code",
   "execution_count": 23,
   "metadata": {},
   "outputs": [
    {
     "name": "stdout",
     "output_type": "stream",
     "text": [
      "Fitting 5 folds for each of 10 candidates, totalling 50 fits\n",
      "[CV] n_estimators=550, min_samples_split=5, min_samples_leaf=1, max_features=auto, max_depth=32 \n"
     ]
    },
    {
     "name": "stderr",
     "output_type": "stream",
     "text": [
      "[Parallel(n_jobs=1)]: Using backend SequentialBackend with 1 concurrent workers.\n"
     ]
    },
    {
     "name": "stdout",
     "output_type": "stream",
     "text": [
      "[CV]  n_estimators=550, min_samples_split=5, min_samples_leaf=1, max_features=auto, max_depth=32, total=   0.4s\n",
      "[CV] n_estimators=550, min_samples_split=5, min_samples_leaf=1, max_features=auto, max_depth=32 \n"
     ]
    },
    {
     "name": "stderr",
     "output_type": "stream",
     "text": [
      "[Parallel(n_jobs=1)]: Done   1 out of   1 | elapsed:    0.3s remaining:    0.0s\n"
     ]
    },
    {
     "name": "stdout",
     "output_type": "stream",
     "text": [
      "[CV]  n_estimators=550, min_samples_split=5, min_samples_leaf=1, max_features=auto, max_depth=32, total=   0.4s\n",
      "[CV] n_estimators=550, min_samples_split=5, min_samples_leaf=1, max_features=auto, max_depth=32 \n",
      "[CV]  n_estimators=550, min_samples_split=5, min_samples_leaf=1, max_features=auto, max_depth=32, total=   0.4s\n",
      "[CV] n_estimators=550, min_samples_split=5, min_samples_leaf=1, max_features=auto, max_depth=32 \n",
      "[CV]  n_estimators=550, min_samples_split=5, min_samples_leaf=1, max_features=auto, max_depth=32, total=   0.4s\n",
      "[CV] n_estimators=550, min_samples_split=5, min_samples_leaf=1, max_features=auto, max_depth=32 \n",
      "[CV]  n_estimators=550, min_samples_split=5, min_samples_leaf=1, max_features=auto, max_depth=32, total=   0.5s\n",
      "[CV] n_estimators=1050, min_samples_split=80, min_samples_leaf=5, max_features=auto, max_depth=5 \n",
      "[CV]  n_estimators=1050, min_samples_split=80, min_samples_leaf=5, max_features=auto, max_depth=5, total=   0.7s\n",
      "[CV] n_estimators=1050, min_samples_split=80, min_samples_leaf=5, max_features=auto, max_depth=5 \n",
      "[CV]  n_estimators=1050, min_samples_split=80, min_samples_leaf=5, max_features=auto, max_depth=5, total=   0.6s\n",
      "[CV] n_estimators=1050, min_samples_split=80, min_samples_leaf=5, max_features=auto, max_depth=5 \n",
      "[CV]  n_estimators=1050, min_samples_split=80, min_samples_leaf=5, max_features=auto, max_depth=5, total=   0.6s\n",
      "[CV] n_estimators=1050, min_samples_split=80, min_samples_leaf=5, max_features=auto, max_depth=5 \n",
      "[CV]  n_estimators=1050, min_samples_split=80, min_samples_leaf=5, max_features=auto, max_depth=5, total=   0.5s\n",
      "[CV] n_estimators=1050, min_samples_split=80, min_samples_leaf=5, max_features=auto, max_depth=5 \n",
      "[CV]  n_estimators=1050, min_samples_split=80, min_samples_leaf=5, max_features=auto, max_depth=5, total=   0.5s\n",
      "[CV] n_estimators=1050, min_samples_split=100, min_samples_leaf=2, max_features=auto, max_depth=23 \n",
      "[CV]  n_estimators=1050, min_samples_split=100, min_samples_leaf=2, max_features=auto, max_depth=23, total=   0.5s\n",
      "[CV] n_estimators=1050, min_samples_split=100, min_samples_leaf=2, max_features=auto, max_depth=23 \n",
      "[CV]  n_estimators=1050, min_samples_split=100, min_samples_leaf=2, max_features=auto, max_depth=23, total=   0.5s\n",
      "[CV] n_estimators=1050, min_samples_split=100, min_samples_leaf=2, max_features=auto, max_depth=23 \n",
      "[CV]  n_estimators=1050, min_samples_split=100, min_samples_leaf=2, max_features=auto, max_depth=23, total=   0.5s\n",
      "[CV] n_estimators=1050, min_samples_split=100, min_samples_leaf=2, max_features=auto, max_depth=23 \n",
      "[CV]  n_estimators=1050, min_samples_split=100, min_samples_leaf=2, max_features=auto, max_depth=23, total=   0.5s\n",
      "[CV] n_estimators=1050, min_samples_split=100, min_samples_leaf=2, max_features=auto, max_depth=23 \n",
      "[CV]  n_estimators=1050, min_samples_split=100, min_samples_leaf=2, max_features=auto, max_depth=23, total=   0.6s\n",
      "[CV] n_estimators=450, min_samples_split=40, min_samples_leaf=1, max_features=sqrt, max_depth=50 \n",
      "[CV]  n_estimators=450, min_samples_split=40, min_samples_leaf=1, max_features=sqrt, max_depth=50, total=   0.3s\n",
      "[CV] n_estimators=450, min_samples_split=40, min_samples_leaf=1, max_features=sqrt, max_depth=50 \n",
      "[CV]  n_estimators=450, min_samples_split=40, min_samples_leaf=1, max_features=sqrt, max_depth=50, total=   0.2s\n",
      "[CV] n_estimators=450, min_samples_split=40, min_samples_leaf=1, max_features=sqrt, max_depth=50 \n",
      "[CV]  n_estimators=450, min_samples_split=40, min_samples_leaf=1, max_features=sqrt, max_depth=50, total=   0.2s\n",
      "[CV] n_estimators=450, min_samples_split=40, min_samples_leaf=1, max_features=sqrt, max_depth=50 \n",
      "[CV]  n_estimators=450, min_samples_split=40, min_samples_leaf=1, max_features=sqrt, max_depth=50, total=   0.2s\n",
      "[CV] n_estimators=450, min_samples_split=40, min_samples_leaf=1, max_features=sqrt, max_depth=50 \n",
      "[CV]  n_estimators=450, min_samples_split=40, min_samples_leaf=1, max_features=sqrt, max_depth=50, total=   0.3s\n",
      "[CV] n_estimators=100, min_samples_split=8, min_samples_leaf=2, max_features=auto, max_depth=23 \n",
      "[CV]  n_estimators=100, min_samples_split=8, min_samples_leaf=2, max_features=auto, max_depth=23, total=   0.1s\n",
      "[CV] n_estimators=100, min_samples_split=8, min_samples_leaf=2, max_features=auto, max_depth=23 \n",
      "[CV]  n_estimators=100, min_samples_split=8, min_samples_leaf=2, max_features=auto, max_depth=23, total=   0.1s\n",
      "[CV] n_estimators=100, min_samples_split=8, min_samples_leaf=2, max_features=auto, max_depth=23 \n",
      "[CV]  n_estimators=100, min_samples_split=8, min_samples_leaf=2, max_features=auto, max_depth=23, total=   0.1s\n",
      "[CV] n_estimators=100, min_samples_split=8, min_samples_leaf=2, max_features=auto, max_depth=23 \n",
      "[CV]  n_estimators=100, min_samples_split=8, min_samples_leaf=2, max_features=auto, max_depth=23, total=   0.1s\n",
      "[CV] n_estimators=100, min_samples_split=8, min_samples_leaf=2, max_features=auto, max_depth=23 \n",
      "[CV]  n_estimators=100, min_samples_split=8, min_samples_leaf=2, max_features=auto, max_depth=23, total=   0.1s\n",
      "[CV] n_estimators=1250, min_samples_split=80, min_samples_leaf=10, max_features=sqrt, max_depth=41 \n",
      "[CV]  n_estimators=1250, min_samples_split=80, min_samples_leaf=10, max_features=sqrt, max_depth=41, total=   0.7s\n",
      "[CV] n_estimators=1250, min_samples_split=80, min_samples_leaf=10, max_features=sqrt, max_depth=41 \n",
      "[CV]  n_estimators=1250, min_samples_split=80, min_samples_leaf=10, max_features=sqrt, max_depth=41, total=   0.6s\n",
      "[CV] n_estimators=1250, min_samples_split=80, min_samples_leaf=10, max_features=sqrt, max_depth=41 \n",
      "[CV]  n_estimators=1250, min_samples_split=80, min_samples_leaf=10, max_features=sqrt, max_depth=41, total=   0.8s\n",
      "[CV] n_estimators=1250, min_samples_split=80, min_samples_leaf=10, max_features=sqrt, max_depth=41 \n",
      "[CV]  n_estimators=1250, min_samples_split=80, min_samples_leaf=10, max_features=sqrt, max_depth=41, total=   0.7s\n",
      "[CV] n_estimators=1250, min_samples_split=80, min_samples_leaf=10, max_features=sqrt, max_depth=41 \n",
      "[CV]  n_estimators=1250, min_samples_split=80, min_samples_leaf=10, max_features=sqrt, max_depth=41, total=   0.6s\n",
      "[CV] n_estimators=250, min_samples_split=15, min_samples_leaf=2, max_features=sqrt, max_depth=41 \n",
      "[CV]  n_estimators=250, min_samples_split=15, min_samples_leaf=2, max_features=sqrt, max_depth=41, total=   0.2s\n",
      "[CV] n_estimators=250, min_samples_split=15, min_samples_leaf=2, max_features=sqrt, max_depth=41 \n",
      "[CV]  n_estimators=250, min_samples_split=15, min_samples_leaf=2, max_features=sqrt, max_depth=41, total=   0.2s\n",
      "[CV] n_estimators=250, min_samples_split=15, min_samples_leaf=2, max_features=sqrt, max_depth=41 \n",
      "[CV]  n_estimators=250, min_samples_split=15, min_samples_leaf=2, max_features=sqrt, max_depth=41, total=   0.2s\n",
      "[CV] n_estimators=250, min_samples_split=15, min_samples_leaf=2, max_features=sqrt, max_depth=41 \n",
      "[CV]  n_estimators=250, min_samples_split=15, min_samples_leaf=2, max_features=sqrt, max_depth=41, total=   0.2s\n",
      "[CV] n_estimators=250, min_samples_split=15, min_samples_leaf=2, max_features=sqrt, max_depth=41 \n",
      "[CV]  n_estimators=250, min_samples_split=15, min_samples_leaf=2, max_features=sqrt, max_depth=41, total=   0.1s\n",
      "[CV] n_estimators=250, min_samples_split=4, min_samples_leaf=10, max_features=auto, max_depth=23 \n",
      "[CV]  n_estimators=250, min_samples_split=4, min_samples_leaf=10, max_features=auto, max_depth=23, total=   0.2s\n",
      "[CV] n_estimators=250, min_samples_split=4, min_samples_leaf=10, max_features=auto, max_depth=23 \n",
      "[CV]  n_estimators=250, min_samples_split=4, min_samples_leaf=10, max_features=auto, max_depth=23, total=   0.2s\n",
      "[CV] n_estimators=250, min_samples_split=4, min_samples_leaf=10, max_features=auto, max_depth=23 \n",
      "[CV]  n_estimators=250, min_samples_split=4, min_samples_leaf=10, max_features=auto, max_depth=23, total=   0.2s\n",
      "[CV] n_estimators=250, min_samples_split=4, min_samples_leaf=10, max_features=auto, max_depth=23 \n",
      "[CV]  n_estimators=250, min_samples_split=4, min_samples_leaf=10, max_features=auto, max_depth=23, total=   0.2s\n",
      "[CV] n_estimators=250, min_samples_split=4, min_samples_leaf=10, max_features=auto, max_depth=23 \n",
      "[CV]  n_estimators=250, min_samples_split=4, min_samples_leaf=10, max_features=auto, max_depth=23, total=   0.2s\n",
      "[CV] n_estimators=1300, min_samples_split=80, min_samples_leaf=1, max_features=sqrt, max_depth=23 \n"
     ]
    },
    {
     "name": "stdout",
     "output_type": "stream",
     "text": [
      "[CV]  n_estimators=1300, min_samples_split=80, min_samples_leaf=1, max_features=sqrt, max_depth=23, total=   0.9s\n",
      "[CV] n_estimators=1300, min_samples_split=80, min_samples_leaf=1, max_features=sqrt, max_depth=23 \n",
      "[CV]  n_estimators=1300, min_samples_split=80, min_samples_leaf=1, max_features=sqrt, max_depth=23, total=   0.7s\n",
      "[CV] n_estimators=1300, min_samples_split=80, min_samples_leaf=1, max_features=sqrt, max_depth=23 \n",
      "[CV]  n_estimators=1300, min_samples_split=80, min_samples_leaf=1, max_features=sqrt, max_depth=23, total=   0.6s\n",
      "[CV] n_estimators=1300, min_samples_split=80, min_samples_leaf=1, max_features=sqrt, max_depth=23 \n",
      "[CV]  n_estimators=1300, min_samples_split=80, min_samples_leaf=1, max_features=sqrt, max_depth=23, total=   0.8s\n",
      "[CV] n_estimators=1300, min_samples_split=80, min_samples_leaf=1, max_features=sqrt, max_depth=23 \n",
      "[CV]  n_estimators=1300, min_samples_split=80, min_samples_leaf=1, max_features=sqrt, max_depth=23, total=   0.6s\n",
      "[CV] n_estimators=850, min_samples_split=12, min_samples_leaf=2, max_features=auto, max_depth=5 \n",
      "[CV]  n_estimators=850, min_samples_split=12, min_samples_leaf=2, max_features=auto, max_depth=5, total=   0.6s\n",
      "[CV] n_estimators=850, min_samples_split=12, min_samples_leaf=2, max_features=auto, max_depth=5 \n",
      "[CV]  n_estimators=850, min_samples_split=12, min_samples_leaf=2, max_features=auto, max_depth=5, total=   0.6s\n",
      "[CV] n_estimators=850, min_samples_split=12, min_samples_leaf=2, max_features=auto, max_depth=5 \n",
      "[CV]  n_estimators=850, min_samples_split=12, min_samples_leaf=2, max_features=auto, max_depth=5, total=   0.5s\n",
      "[CV] n_estimators=850, min_samples_split=12, min_samples_leaf=2, max_features=auto, max_depth=5 \n",
      "[CV]  n_estimators=850, min_samples_split=12, min_samples_leaf=2, max_features=auto, max_depth=5, total=   0.5s\n",
      "[CV] n_estimators=850, min_samples_split=12, min_samples_leaf=2, max_features=auto, max_depth=5 \n",
      "[CV]  n_estimators=850, min_samples_split=12, min_samples_leaf=2, max_features=auto, max_depth=5, total=   0.5s\n"
     ]
    },
    {
     "name": "stderr",
     "output_type": "stream",
     "text": [
      "[Parallel(n_jobs=1)]: Done  50 out of  50 | elapsed:   21.1s finished\n"
     ]
    },
    {
     "data": {
      "text/plain": [
       "-2.4485570020539447"
      ]
     },
     "execution_count": 23,
     "metadata": {},
     "output_type": "execute_result"
    }
   ],
   "source": [
    "rf_random.fit(X_train,y_train)\n",
    "rf_random.score(X_test, y_test)\n"
   ]
  },
  {
   "cell_type": "code",
   "execution_count": 24,
   "metadata": {},
   "outputs": [],
   "source": [
    "predictions = rf_random.predict(X_test)"
   ]
  },
  {
   "cell_type": "code",
   "execution_count": 25,
   "metadata": {},
   "outputs": [
    {
     "data": {
      "text/plain": [
       "<matplotlib.collections.PathCollection at 0x26f63c41ef0>"
      ]
     },
     "execution_count": 25,
     "metadata": {},
     "output_type": "execute_result"
    },
    {
     "data": {
      "image/png": "[encoded data removed]",
      "text/plain": [
       "<Figure size 432x288 with 1 Axes>"
      ]
     },
     "metadata": {
      "needs_background": "light"
     },
     "output_type": "display_data"
    }
   ],
   "source": [
    "plt.scatter(y_test, predictions)"
   ]
  },
  {
   "cell_type": "code",
   "execution_count": 26,
   "metadata": {},
   "outputs": [
    {
     "data": {
      "text/plain": [
       "<matplotlib.axes._subplots.AxesSubplot at 0x26f63c78a58>"
      ]
     },
     "execution_count": 26,
     "metadata": {},
     "output_type": "execute_result"
    },
    {
     "data": {
      "image/png": "[encoded data removed]",
      "text/plain": [
       "<Figure size 432x288 with 1 Axes>"
      ]
     },
     "metadata": {
      "needs_background": "light"
     },
     "output_type": "display_data"
    }
   ],
   "source": [
    "sns.distplot( y_test - predictions)"
   ]
  },
  {
   "cell_type": "code",
   "execution_count": 27,
   "metadata": {},
   "outputs": [],
   "source": [
    "file = open(\"RandomForestRegressor.pkl\", 'wb')\n",
    "pickle.dump(rf_random, file)"
   ]
  },
  {
   "cell_type": "code",
   "execution_count": 28,
   "metadata": {},
   "outputs": [
    {
     "data": {
      "text/plain": [
       "Index(['Selling_Price', 'Present_Price', 'Kms_Driven', 'Owner',\n",
       "       'Fuel_Type_Diesel', 'Fuel_Type_Petrol', 'Seller_Type_Individual',\n",
       "       'Transmission_Manual', 'No_of_Year'],\n",
       "      dtype='object')"
      ]
     },
     "execution_count": 28,
     "metadata": {},
     "output_type": "execute_result"
    }
   ],
   "source": [
    "data.columns"
   ]
  },
  {
   "cell_type": "code",
   "execution_count": 29,
   "metadata": {},
   "outputs": [
    {
     "data": {
      "text/plain": [
       "RandomizedSearchCV(cv=5, error_score='raise-deprecating',\n",
       "                   estimator=RandomForestRegressor(bootstrap=True,\n",
       "                                                   criterion='mse',\n",
       "                                                   max_depth=None,\n",
       "                                                   max_features='auto',\n",
       "                                                   max_leaf_nodes=None,\n",
       "                                                   min_impurity_decrease=0.0,\n",
       "                                                   min_impurity_split=None,\n",
       "                                                   min_samples_leaf=1,\n",
       "                                                   min_samples_split=2,\n",
       "                                                   min_weight_fraction_leaf=0.0,\n",
       "                                                   n_estimators='warn',\n",
       "                                                   n_jobs=None, oob_score=False,\n",
       "                                                   random_sta...\n",
       "                                        'max_features': ['auto', 'sqrt'],\n",
       "                                        'min_samples_leaf': [1, 2, 5, 10],\n",
       "                                        'min_samples_split': [2, 4, 5, 8, 10,\n",
       "                                                              12, 15, 40, 80,\n",
       "                                                              100],\n",
       "                                        'n_estimators': [50, 100, 150, 200, 250,\n",
       "                                                         300, 350, 400, 450,\n",
       "                                                         500, 550, 600, 650,\n",
       "                                                         700, 750, 800, 850,\n",
       "                                                         900, 950, 1000, 1050,\n",
       "                                                         1100, 1150, 1200, 1250,\n",
       "                                                         1300, 1350, 1400, 1450,\n",
       "                                                         1500]},\n",
       "                   pre_dispatch='2*n_jobs', random_state=42, refit=True,\n",
       "                   return_train_score=False, scoring='neg_mean_squared_error',\n",
       "                   verbose=2)"
      ]
     },
     "execution_count": 29,
     "metadata": {},
     "output_type": "execute_result"
    }
   ],
   "source": [
    "\n",
    "rf_random\n"
   ]
  },
  {
   "cell_type": "code",
   "execution_count": 30,
   "metadata": {},
   "outputs": [
    {
     "name": "stdout",
     "output_type": "stream",
     "text": [
      "MAE: 0.6893691346523975\n",
      "MSE: 2.4485570020539447\n",
      "RMSE: 1.5647865675720585\n"
     ]
    }
   ],
   "source": [
    "from sklearn import metrics\n",
    "print('MAE:', metrics.mean_absolute_error(y_test, predictions))\n",
    "print('MSE:', metrics.mean_squared_error(y_test, predictions))\n",
    "print('RMSE:', np.sqrt(metrics.mean_squared_error(y_test, predictions)))"
   ]
  },
  {
   "cell_type": "code",
   "execution_count": 31,
   "metadata": {},
   "outputs": [
    {
     "data": {
      "text/plain": [
       "{'n_estimators': 550,\n",
       " 'min_samples_split': 5,\n",
       " 'min_samples_leaf': 1,\n",
       " 'max_features': 'auto',\n",
       " 'max_depth': 32}"
      ]
     },
     "execution_count": 31,
     "metadata": {},
     "output_type": "execute_result"
    }
   ],
   "source": [
    "rf_random.best_params_"
   ]
  },
  {
   "cell_type": "code",
   "execution_count": 32,
   "metadata": {},
   "outputs": [
    {
     "data": {
      "text/plain": [
       "array([4.59891918])"
      ]
     },
     "execution_count": 32,
     "metadata": {},
     "output_type": "execute_result"
    }
   ],
   "source": [
    "data.head()\n",
    "rf_random.predict([[7.0, 50000, 1, 1, 0, 0, 1, 2]])"
   ]
  },
  {
   "cell_type": "code",
   "execution_count": 33,
   "metadata": {},
   "outputs": [
    {
     "data": {
      "text/plain": [
       "-2.4485570020539447"
      ]
     },
     "execution_count": 33,
     "metadata": {},
     "output_type": "execute_result"
    }
   ],
   "source": [
    "rf_random.score(X_test, y_test)"
   ]
  },
  {
   "cell_type": "code",
   "execution_count": null,
   "metadata": {},
   "outputs": [],
   "source": []
  }
 ],
 "metadata": {
  "kernelspec": {
   "display_name": "Python 3",
   "language": "python",
   "name": "python3"
  },
  "language_info": {
   "codemirror_mode": {
    "name": "ipython",
    "version": 3
   },
   "file_extension": ".py",
   "mimetype": "text/x-python",
   "name": "python",
   "nbconvert_exporter": "python",
   "pygments_lexer": "ipython3",
   "version": "3.7.2"
  }
 },
 "nbformat": 4,
 "nbformat_minor": 2
}
